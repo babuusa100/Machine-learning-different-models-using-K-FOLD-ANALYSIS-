{
 "cells": [
  {
   "cell_type": "markdown",
   "metadata": {},
   "source": [
    "# K-FOLD ANALYSIS FOR DIFFERENT MACHINE LEARNING MODELS FOR VARIOUS DATA-SETS"
   ]
  },
  {
   "cell_type": "markdown",
   "metadata": {},
   "source": [
    "# ABALONE DATA-SET"
   ]
  },
  {
   "cell_type": "code",
   "execution_count": 1,
   "metadata": {},
   "outputs": [],
   "source": [
    "from sklearn.model_selection import KFold, cross_val_score, train_test_split, GridSearchCV\n",
    "from sklearn.linear_model import LogisticRegression\n",
    "from sklearn.tree import DecisionTreeClassifier\n",
    "from sklearn.ensemble import RandomForestClassifier\n",
    "from sklearn.metrics import classification_report, fbeta_score, confusion_matrix, accuracy_score\n",
    "from sklearn.neighbors import KNeighborsClassifier\n",
    "\n",
    "#LDA\n",
    "from sklearn.discriminant_analysis import LinearDiscriminantAnalysis\n",
    "\n",
    "#NAIVE_BAYES MODEL\n",
    "from sklearn.naive_bayes import GaussianNB\n",
    "\n",
    "#SVC \n",
    "from sklearn.svm import SVC\n",
    "\n",
    "#XGBOOST\n",
    "from xgboost import XGBClassifier\n",
    "import pandas as pd"
   ]
  },
  {
   "cell_type": "code",
   "execution_count": 2,
   "metadata": {},
   "outputs": [],
   "source": [
    "df_credit = pd.read_csv(\"C:\\\\Users\\\\BABU\\\\Downloads\\\\abalone.csv\")"
   ]
  },
  {
   "cell_type": "code",
   "execution_count": 3,
   "metadata": {},
   "outputs": [
    {
     "data": {
      "text/plain": [
       "array([15,  7,  9, ...,  9, 10, 12], dtype=int64)"
      ]
     },
     "execution_count": 3,
     "metadata": {},
     "output_type": "execute_result"
    }
   ],
   "source": [
    "df_credit[\"Rings\"].values"
   ]
  },
  {
   "cell_type": "code",
   "execution_count": 4,
   "metadata": {},
   "outputs": [
    {
     "data": {
      "text/plain": [
       "Sex                object\n",
       "Length            float64\n",
       "Diameter          float64\n",
       "Height            float64\n",
       "Whole weight      float64\n",
       "Shucked weight    float64\n",
       "Viscera weight    float64\n",
       "Shell weight      float64\n",
       "Rings               int64\n",
       "dtype: object"
      ]
     },
     "execution_count": 4,
     "metadata": {},
     "output_type": "execute_result"
    }
   ],
   "source": [
    "df_credit.dtypes"
   ]
  },
  {
   "cell_type": "code",
   "execution_count": 5,
   "metadata": {},
   "outputs": [],
   "source": [
    "import numpy as np\n",
    "df_credit[\"Rings\"]= np.where(df_credit[\"Rings\"]>10, 1,0)"
   ]
  },
  {
   "cell_type": "code",
   "execution_count": 6,
   "metadata": {},
   "outputs": [],
   "source": [
    "df_credit.loc[df_credit['Sex']=='M','Sex']= 1\n",
    "\n",
    "df_credit.loc[df_credit['Sex']=='F','Sex']= 0\n",
    "df_credit.loc[df_credit['Sex']=='I','Sex']= 0\n",
    "df_credit[\"Sex\"] = df_credit[\"Sex\"].astype(int)"
   ]
  },
  {
   "cell_type": "code",
   "execution_count": 7,
   "metadata": {},
   "outputs": [
    {
     "name": "stdout",
     "output_type": "stream",
     "text": [
      "(3132, 8) (1045, 8)\n"
     ]
    }
   ],
   "source": [
    "x = df_credit.drop(\"Rings\", axis =1).values#independent variable\n",
    "\n",
    "y = df_credit[\"Rings\"].values #dependant variable\n",
    "#train and test data split\n",
    "x_train, x_test, y_train, y_test = train_test_split(x,y, test_size = 0.25, random_state = 42)\n",
    "\n",
    "print(x_train.shape, x_test.shape)\n",
    "#NOTE:\n",
    "#.values will store the values in the form of array\n",
    "#if you not give x will store the values in series"
   ]
  },
  {
   "cell_type": "code",
   "execution_count": 8,
   "metadata": {},
   "outputs": [],
   "source": [
    "#to feed the random state\n",
    "seed = 42\n",
    "\n",
    "#prepare models\n",
    "models = []\n",
    "models.append((\"LR\", LogisticRegression()))\n",
    "models.append((\"LDA\", LinearDiscriminantAnalysis()))\n",
    "models.append((\"KNN\", KNeighborsClassifier()))\n",
    "models.append((\"CART\", DecisionTreeClassifier()))\n",
    "models.append((\"NB\", GaussianNB()))\n",
    "models.append((\"RF\", RandomForestClassifier()))\n",
    "models.append((\"SVM\", SVC(gamma = 'auto')))\n",
    "models.append((\"XGB\", XGBClassifier()))\n",
    "#appending all the models with their names"
   ]
  },
  {
   "cell_type": "code",
   "execution_count": 9,
   "metadata": {},
   "outputs": [
    {
     "name": "stdout",
     "output_type": "stream",
     "text": [
      "('LR', 0.5354237580637033, 0.03690758358270518)\n",
      "('LDA', 0.5595652926921405, 0.02698877594118679)\n",
      "('KNN', 0.5888410759432798, 0.02512638204957885)\n",
      "('CART', 0.6191424221239836, 0.04438053310282255)\n",
      "('NB', 0.6984808088987193, 0.007419306213695487)\n",
      "('RF', 0.6333613971693504, 0.02756640225196742)\n",
      "('SVM', 0.4233424358370491, 0.035728167323395274)\n",
      "('XGB', 0.6438402088131524, 0.02983404904575001)\n"
     ]
    }
   ],
   "source": [
    "import warnings \n",
    "warnings.filterwarnings(\"ignore\")# to avoid the warnings in our data-set\n",
    "result = []\n",
    "names = []\n",
    "scoring = 'recall'\n",
    "seed = 42\n",
    "\n",
    "for name, model in models:\n",
    "    kfold = KFold(n_splits = 5, random_state =seed)# 5 split of data (value of k)\n",
    "    cv_results = cross_val_score(model, x_train, y_train, cv = kfold, scoring = scoring)\n",
    "    result.append(cv_results)\n",
    "    names.append(name)\n",
    "    msg = (name, cv_results.mean(), cv_results.std())\n",
    "    print(msg)"
   ]
  },
  {
   "cell_type": "code",
   "execution_count": 10,
   "metadata": {},
   "outputs": [
    {
     "data": {
      "image/png": "[encoded data removed]",
      "text/plain": [
       "<Figure size 576x288 with 1 Axes>"
      ]
     },
     "metadata": {
      "needs_background": "light"
     },
     "output_type": "display_data"
    }
   ],
   "source": [
    "#boxplot results for choosing our algorithm\n",
    "import matplotlib.pyplot as plt\n",
    "fig = plt.figure(figsize = (8,4))\n",
    "fig.suptitle('Algorithm Comparison')\n",
    "ax = fig.add_subplot(1,1,1)\n",
    "plt.boxplot(result)\n",
    "ax.set_xticklabels(names)\n",
    "plt.show()"
   ]
  },
  {
   "cell_type": "markdown",
   "metadata": {},
   "source": [
    "# In terms of recall the best model is :\n",
    "\n",
    "1) LR \n",
    "\n",
    "2) LDA\n",
    "\n",
    "3) KNN\n",
    "\n",
    "4) CART"
   ]
  },
  {
   "cell_type": "code",
   "execution_count": 11,
   "metadata": {},
   "outputs": [
    {
     "name": "stdout",
     "output_type": "stream",
     "text": [
      "('LR', 0.7268011392798275, 0.032750516325435214)\n",
      "('LDA', 0.7486541368882287, 0.02858610514163447)\n",
      "('KNN', 0.6840174090205458, 0.03371328864250063)\n",
      "('CART', 0.585155291417623, 0.02665393640711693)\n",
      "('NB', 0.5338993236844132, 0.028121415242038247)\n",
      "('RF', 0.7060412656611297, 0.03424227467755743)\n",
      "('SVM', 0.7460998374834993, 0.05465960502898172)\n",
      "('XGB', 0.6751717418769182, 0.02703900543631838)\n"
     ]
    }
   ],
   "source": [
    "#precion\n",
    "import warnings \n",
    "warnings.filterwarnings(\"ignore\")# to avoid the warnings in our data-set\n",
    "result1 = []\n",
    "names = []\n",
    "scoring = 'precision'\n",
    "seed = 42\n",
    "\n",
    "for name, model in models:\n",
    "    kfold = KFold(n_splits = 5, random_state =seed)# 5 split of data (value of k)\n",
    "    cv_results = cross_val_score(model, x_train, y_train, cv = kfold, scoring = scoring)\n",
    "    result1.append(cv_results)\n",
    "    names.append(name)\n",
    "    msg1 = (name, cv_results.mean(), cv_results.std())\n",
    "    print(msg1)\n",
    "#first one is mean value of a model, next one is the std deviation"
   ]
  },
  {
   "cell_type": "code",
   "execution_count": 12,
   "metadata": {},
   "outputs": [
    {
     "data": {
      "image/png": "[encoded data removed]",
      "text/plain": [
       "<Figure size 576x288 with 1 Axes>"
      ]
     },
     "metadata": {
      "needs_background": "light"
     },
     "output_type": "display_data"
    }
   ],
   "source": [
    "#boxplot results for choosing our algorithm\n",
    "fig = plt.figure(figsize = (8,4))\n",
    "fig.suptitle('Algorithm Comparison')\n",
    "ax = fig.add_subplot(1,1,1)\n",
    "plt.boxplot(result1)\n",
    "ax.set_xticklabels(names)\n",
    "plt.show()"
   ]
  },
  {
   "cell_type": "markdown",
   "metadata": {},
   "source": [
    "# In terms of precision the best model is:\n",
    "\n",
    "1) SVM            \n",
    "\n",
    "2) RandomForest                    \n",
    "\n",
    "3) KNN\n",
    "\n",
    "4) LDA              \n",
    "\n",
    "5) Logistic Regression"
   ]
  },
  {
   "cell_type": "code",
   "execution_count": 14,
   "metadata": {},
   "outputs": [
    {
     "name": "stdout",
     "output_type": "stream",
     "text": [
      "('LR', 0.7653275652098588, 0.004851039777235979)\n",
      "('LDA', 0.7790604888637509, 0.011476308441508766)\n",
      "('KNN', 0.7598998221665111, 0.013305268235795753)\n",
      "('CART', 0.7155153349537072, 0.008586190481300219)\n",
      "('NB', 0.6787888978909662, 0.02014723045489811)\n",
      "('RF', 0.7787384522881411, 0.008992643340013002)\n",
      "('SVM', 0.7458494479009025, 0.009757704460370872)\n",
      "('XGB', 0.7659696001549037, 0.011019635903773072)\n"
     ]
    }
   ],
   "source": [
    "# default scoring is a accuracy\n",
    "import warnings \n",
    "warnings.filterwarnings(\"ignore\")# to avoid the warnings in our data-set\n",
    "result2 = []\n",
    "names = []\n",
    "seed = 42\n",
    "\n",
    "for name, model in models:\n",
    "    kfold = KFold(n_splits = 5, random_state =seed)# 5 split of data (value of k)\n",
    "    cv_results = cross_val_score(model, x_train, y_train, cv = kfold)\n",
    "    result2.append(cv_results)\n",
    "    names.append(name)\n",
    "    msg1 = (name, cv_results.mean(), cv_results.std())\n",
    "    print(msg1)\n",
    "#first one is mean value of a model, next one is the std deviation"
   ]
  },
  {
   "cell_type": "code",
   "execution_count": 15,
   "metadata": {},
   "outputs": [
    {
     "data": {
      "image/png": "[encoded data removed]",
      "text/plain": [
       "<Figure size 576x288 with 1 Axes>"
      ]
     },
     "metadata": {
      "needs_background": "light"
     },
     "output_type": "display_data"
    }
   ],
   "source": [
    "fig = plt.figure(figsize = (8,4))\n",
    "fig.suptitle('Algorithm Comparison')\n",
    "ax = fig.add_subplot(1,1,1)\n",
    "plt.boxplot(result2)\n",
    "ax.set_xticklabels(names)\n",
    "plt.show()"
   ]
  },
  {
   "cell_type": "markdown",
   "metadata": {},
   "source": [
    "# Random forest is the best model in terms of accuracy, with this model do the parameter tuning and feature- engineering"
   ]
  },
  {
   "cell_type": "markdown",
   "metadata": {},
   "source": [
    "# FISH DATA-SET"
   ]
  },
  {
   "cell_type": "code",
   "execution_count": 16,
   "metadata": {},
   "outputs": [],
   "source": [
    "df_credit1 = pd.read_csv(\"C:\\\\Users\\\\BABU\\\\Downloads\\\\Fish.csv\")"
   ]
  },
  {
   "cell_type": "code",
   "execution_count": 17,
   "metadata": {},
   "outputs": [
    {
     "data": {
      "text/plain": [
       "Species     object\n",
       "Weight     float64\n",
       "Length1    float64\n",
       "Length2    float64\n",
       "Length3    float64\n",
       "Height     float64\n",
       "Width      float64\n",
       "dtype: object"
      ]
     },
     "execution_count": 17,
     "metadata": {},
     "output_type": "execute_result"
    }
   ],
   "source": [
    "df_credit1.dtypes"
   ]
  },
  {
   "cell_type": "code",
   "execution_count": 18,
   "metadata": {},
   "outputs": [
    {
     "data": {
      "text/html": [
       "<div>\n",
       "<style scoped>\n",
       "    .dataframe tbody tr th:only-of-type {\n",
       "        vertical-align: middle;\n",
       "    }\n",
       "\n",
       "    .dataframe tbody tr th {\n",
       "        vertical-align: top;\n",
       "    }\n",
       "\n",
       "    .dataframe thead th {\n",
       "        text-align: right;\n",
       "    }\n",
       "</style>\n",
       "<table border=\"1\" class=\"dataframe\">\n",
       "  <thead>\n",
       "    <tr style=\"text-align: right;\">\n",
       "      <th></th>\n",
       "      <th>Species</th>\n",
       "      <th>Weight</th>\n",
       "      <th>Length1</th>\n",
       "      <th>Length2</th>\n",
       "      <th>Length3</th>\n",
       "      <th>Height</th>\n",
       "      <th>Width</th>\n",
       "    </tr>\n",
       "  </thead>\n",
       "  <tbody>\n",
       "    <tr>\n",
       "      <th>0</th>\n",
       "      <td>Bream</td>\n",
       "      <td>242.0</td>\n",
       "      <td>23.2</td>\n",
       "      <td>25.4</td>\n",
       "      <td>30.0</td>\n",
       "      <td>11.5200</td>\n",
       "      <td>4.0200</td>\n",
       "    </tr>\n",
       "    <tr>\n",
       "      <th>1</th>\n",
       "      <td>Bream</td>\n",
       "      <td>290.0</td>\n",
       "      <td>24.0</td>\n",
       "      <td>26.3</td>\n",
       "      <td>31.2</td>\n",
       "      <td>12.4800</td>\n",
       "      <td>4.3056</td>\n",
       "    </tr>\n",
       "    <tr>\n",
       "      <th>2</th>\n",
       "      <td>Bream</td>\n",
       "      <td>340.0</td>\n",
       "      <td>23.9</td>\n",
       "      <td>26.5</td>\n",
       "      <td>31.1</td>\n",
       "      <td>12.3778</td>\n",
       "      <td>4.6961</td>\n",
       "    </tr>\n",
       "    <tr>\n",
       "      <th>3</th>\n",
       "      <td>Bream</td>\n",
       "      <td>363.0</td>\n",
       "      <td>26.3</td>\n",
       "      <td>29.0</td>\n",
       "      <td>33.5</td>\n",
       "      <td>12.7300</td>\n",
       "      <td>4.4555</td>\n",
       "    </tr>\n",
       "    <tr>\n",
       "      <th>4</th>\n",
       "      <td>Bream</td>\n",
       "      <td>430.0</td>\n",
       "      <td>26.5</td>\n",
       "      <td>29.0</td>\n",
       "      <td>34.0</td>\n",
       "      <td>12.4440</td>\n",
       "      <td>5.1340</td>\n",
       "    </tr>\n",
       "    <tr>\n",
       "      <th>...</th>\n",
       "      <td>...</td>\n",
       "      <td>...</td>\n",
       "      <td>...</td>\n",
       "      <td>...</td>\n",
       "      <td>...</td>\n",
       "      <td>...</td>\n",
       "      <td>...</td>\n",
       "    </tr>\n",
       "    <tr>\n",
       "      <th>154</th>\n",
       "      <td>Smelt</td>\n",
       "      <td>12.2</td>\n",
       "      <td>11.5</td>\n",
       "      <td>12.2</td>\n",
       "      <td>13.4</td>\n",
       "      <td>2.0904</td>\n",
       "      <td>1.3936</td>\n",
       "    </tr>\n",
       "    <tr>\n",
       "      <th>155</th>\n",
       "      <td>Smelt</td>\n",
       "      <td>13.4</td>\n",
       "      <td>11.7</td>\n",
       "      <td>12.4</td>\n",
       "      <td>13.5</td>\n",
       "      <td>2.4300</td>\n",
       "      <td>1.2690</td>\n",
       "    </tr>\n",
       "    <tr>\n",
       "      <th>156</th>\n",
       "      <td>Smelt</td>\n",
       "      <td>12.2</td>\n",
       "      <td>12.1</td>\n",
       "      <td>13.0</td>\n",
       "      <td>13.8</td>\n",
       "      <td>2.2770</td>\n",
       "      <td>1.2558</td>\n",
       "    </tr>\n",
       "    <tr>\n",
       "      <th>157</th>\n",
       "      <td>Smelt</td>\n",
       "      <td>19.7</td>\n",
       "      <td>13.2</td>\n",
       "      <td>14.3</td>\n",
       "      <td>15.2</td>\n",
       "      <td>2.8728</td>\n",
       "      <td>2.0672</td>\n",
       "    </tr>\n",
       "    <tr>\n",
       "      <th>158</th>\n",
       "      <td>Smelt</td>\n",
       "      <td>19.9</td>\n",
       "      <td>13.8</td>\n",
       "      <td>15.0</td>\n",
       "      <td>16.2</td>\n",
       "      <td>2.9322</td>\n",
       "      <td>1.8792</td>\n",
       "    </tr>\n",
       "  </tbody>\n",
       "</table>\n",
       "<p>159 rows × 7 columns</p>\n",
       "</div>"
      ],
      "text/plain": [
       "    Species  Weight  Length1  Length2  Length3   Height   Width\n",
       "0     Bream   242.0     23.2     25.4     30.0  11.5200  4.0200\n",
       "1     Bream   290.0     24.0     26.3     31.2  12.4800  4.3056\n",
       "2     Bream   340.0     23.9     26.5     31.1  12.3778  4.6961\n",
       "3     Bream   363.0     26.3     29.0     33.5  12.7300  4.4555\n",
       "4     Bream   430.0     26.5     29.0     34.0  12.4440  5.1340\n",
       "..      ...     ...      ...      ...      ...      ...     ...\n",
       "154   Smelt    12.2     11.5     12.2     13.4   2.0904  1.3936\n",
       "155   Smelt    13.4     11.7     12.4     13.5   2.4300  1.2690\n",
       "156   Smelt    12.2     12.1     13.0     13.8   2.2770  1.2558\n",
       "157   Smelt    19.7     13.2     14.3     15.2   2.8728  2.0672\n",
       "158   Smelt    19.9     13.8     15.0     16.2   2.9322  1.8792\n",
       "\n",
       "[159 rows x 7 columns]"
      ]
     },
     "execution_count": 18,
     "metadata": {},
     "output_type": "execute_result"
    }
   ],
   "source": [
    "df_credit1"
   ]
  },
  {
   "cell_type": "markdown",
   "metadata": {},
   "source": [
    "# LABEL ENCODING"
   ]
  },
  {
   "cell_type": "code",
   "execution_count": 19,
   "metadata": {},
   "outputs": [],
   "source": [
    "from sklearn.preprocessing import LabelEncoder\n",
    "encoder=LabelEncoder()\n",
    "df_credit1[\"Species\"]=encoder.fit_transform(df_credit1['Species'])"
   ]
  },
  {
   "cell_type": "code",
   "execution_count": 20,
   "metadata": {},
   "outputs": [
    {
     "data": {
      "text/plain": [
       "Species      int32\n",
       "Weight     float64\n",
       "Length1    float64\n",
       "Length2    float64\n",
       "Length3    float64\n",
       "Height     float64\n",
       "Width      float64\n",
       "dtype: object"
      ]
     },
     "execution_count": 20,
     "metadata": {},
     "output_type": "execute_result"
    }
   ],
   "source": [
    "df_credit1.dtypes"
   ]
  },
  {
   "cell_type": "code",
   "execution_count": 21,
   "metadata": {},
   "outputs": [
    {
     "name": "stdout",
     "output_type": "stream",
     "text": [
      "(119, 6) (40, 6)\n"
     ]
    }
   ],
   "source": [
    "x = df_credit1.drop(\"Species\", axis =1).values#independent variable\n",
    "\n",
    "y = df_credit1[\"Species\"].values #dependant variable\n",
    "#train and test data split\n",
    "X_train, X_test, Y_train, Y_test = train_test_split(x,y, test_size = 0.25, random_state = 42)\n",
    "\n",
    "print(X_train.shape, X_test.shape)\n",
    "#NOTE:\n",
    "#.values will store the values in the form of array\n",
    "#if you not give x will store the values in series"
   ]
  },
  {
   "cell_type": "code",
   "execution_count": 22,
   "metadata": {},
   "outputs": [],
   "source": [
    "#to feed the random state\n",
    "seed = 42\n",
    "\n",
    "#prepare models\n",
    "models = []\n",
    "models.append((\"LR\", LogisticRegression()))\n",
    "models.append((\"LDA\", LinearDiscriminantAnalysis()))\n",
    "models.append((\"KNN\", KNeighborsClassifier()))\n",
    "models.append((\"CART\", DecisionTreeClassifier()))\n",
    "models.append((\"NB\", GaussianNB()))\n",
    "models.append((\"RF\", RandomForestClassifier()))\n",
    "models.append((\"SVM\", SVC(gamma = 'auto')))\n",
    "models.append((\"XGB\", XGBClassifier()))\n",
    "#appending all the models with their names"
   ]
  },
  {
   "cell_type": "code",
   "execution_count": 29,
   "metadata": {},
   "outputs": [
    {
     "name": "stdout",
     "output_type": "stream",
     "text": [
      "('LR', 0.7568840579710145, 0.11211060641051428)\n",
      "('LDA', 0.9579710144927537, 0.04564929827612128)\n",
      "('KNN', 0.4445652173913043, 0.09407460606341192)\n",
      "('CART', 0.7228260869565217, 0.09306023823045213)\n",
      "('NB', 0.5369565217391304, 0.06592410968503994)\n",
      "('RF', 0.7387681159420291, 0.059362821272783174)\n",
      "('SVM', 0.42028985507246375, 0.07009722596513161)\n",
      "('XGB', 0.7217391304347827, 0.0677022590702689)\n"
     ]
    }
   ],
   "source": [
    "import warnings \n",
    "warnings.filterwarnings(\"ignore\")# to avoid the warnings in our data-set\n",
    "result2 = []\n",
    "names = []\n",
    "seed = 42\n",
    "\n",
    "for name, model in models:\n",
    "    kfold = KFold(n_splits = 5, random_state =seed)# 5 split of data (value of k)\n",
    "    cv_results = cross_val_score(model, X_train, Y_train, cv = kfold)\n",
    "    result2.append(cv_results)\n",
    "    names.append(name)\n",
    "    msg1 = (name, cv_results.mean(), cv_results.std())\n",
    "    print(msg1)\n",
    "#first one is mean value of a model, next one is the std deviation"
   ]
  },
  {
   "cell_type": "code",
   "execution_count": 30,
   "metadata": {},
   "outputs": [
    {
     "data": {
      "image/png": "[encoded data removed]",
      "text/plain": [
       "<Figure size 576x288 with 1 Axes>"
      ]
     },
     "metadata": {
      "needs_background": "light"
     },
     "output_type": "display_data"
    }
   ],
   "source": [
    "#boxplot results for choosing our algorithm\n",
    "import matplotlib.pyplot as plt\n",
    "fig = plt.figure(figsize = (8,4))\n",
    "fig.suptitle('Algorithm Comparison')\n",
    "ax = fig.add_subplot(1,1,1)\n",
    "plt.boxplot(result2)\n",
    "ax.set_xticklabels(names)\n",
    "plt.show()"
   ]
  },
  {
   "cell_type": "markdown",
   "metadata": {},
   "source": [
    "# LOGISTIC REGRESSION, NAIVE BAYES IS THE BEST MODEL"
   ]
  },
  {
   "cell_type": "markdown",
   "metadata": {},
   "source": [
    "# ADMIT DATA-SET\n"
   ]
  },
  {
   "cell_type": "code",
   "execution_count": 33,
   "metadata": {},
   "outputs": [],
   "source": [
    "df_credit2 = pd.read_csv(\"C:\\\\Users\\\\BABU\\\\Desktop\\\\BABU-OVERALL\\\\DATA-SCIENCE\\\\exported datas\\\\admit.csv\")"
   ]
  },
  {
   "cell_type": "code",
   "execution_count": 34,
   "metadata": {},
   "outputs": [
    {
     "data": {
      "text/html": [
       "<div>\n",
       "<style scoped>\n",
       "    .dataframe tbody tr th:only-of-type {\n",
       "        vertical-align: middle;\n",
       "    }\n",
       "\n",
       "    .dataframe tbody tr th {\n",
       "        vertical-align: top;\n",
       "    }\n",
       "\n",
       "    .dataframe thead th {\n",
       "        text-align: right;\n",
       "    }\n",
       "</style>\n",
       "<table border=\"1\" class=\"dataframe\">\n",
       "  <thead>\n",
       "    <tr style=\"text-align: right;\">\n",
       "      <th></th>\n",
       "      <th>Unnamed: 0</th>\n",
       "      <th>GRE</th>\n",
       "      <th>TOEFL</th>\n",
       "      <th>Univ_Rating</th>\n",
       "      <th>SOP</th>\n",
       "      <th>LOR</th>\n",
       "      <th>CGPA</th>\n",
       "      <th>Research</th>\n",
       "      <th>Admit</th>\n",
       "    </tr>\n",
       "  </thead>\n",
       "  <tbody>\n",
       "    <tr>\n",
       "      <th>0</th>\n",
       "      <td>1</td>\n",
       "      <td>337</td>\n",
       "      <td>118</td>\n",
       "      <td>4</td>\n",
       "      <td>4.5</td>\n",
       "      <td>4.5</td>\n",
       "      <td>9.65</td>\n",
       "      <td>1</td>\n",
       "      <td>1</td>\n",
       "    </tr>\n",
       "    <tr>\n",
       "      <th>1</th>\n",
       "      <td>2</td>\n",
       "      <td>324</td>\n",
       "      <td>107</td>\n",
       "      <td>4</td>\n",
       "      <td>4.0</td>\n",
       "      <td>4.5</td>\n",
       "      <td>8.87</td>\n",
       "      <td>1</td>\n",
       "      <td>1</td>\n",
       "    </tr>\n",
       "    <tr>\n",
       "      <th>2</th>\n",
       "      <td>3</td>\n",
       "      <td>316</td>\n",
       "      <td>104</td>\n",
       "      <td>3</td>\n",
       "      <td>3.0</td>\n",
       "      <td>3.5</td>\n",
       "      <td>8.00</td>\n",
       "      <td>1</td>\n",
       "      <td>1</td>\n",
       "    </tr>\n",
       "    <tr>\n",
       "      <th>3</th>\n",
       "      <td>4</td>\n",
       "      <td>322</td>\n",
       "      <td>110</td>\n",
       "      <td>2</td>\n",
       "      <td>3.5</td>\n",
       "      <td>2.5</td>\n",
       "      <td>8.67</td>\n",
       "      <td>1</td>\n",
       "      <td>1</td>\n",
       "    </tr>\n",
       "    <tr>\n",
       "      <th>4</th>\n",
       "      <td>5</td>\n",
       "      <td>314</td>\n",
       "      <td>103</td>\n",
       "      <td>2</td>\n",
       "      <td>2.0</td>\n",
       "      <td>3.0</td>\n",
       "      <td>8.21</td>\n",
       "      <td>0</td>\n",
       "      <td>0</td>\n",
       "    </tr>\n",
       "    <tr>\n",
       "      <th>...</th>\n",
       "      <td>...</td>\n",
       "      <td>...</td>\n",
       "      <td>...</td>\n",
       "      <td>...</td>\n",
       "      <td>...</td>\n",
       "      <td>...</td>\n",
       "      <td>...</td>\n",
       "      <td>...</td>\n",
       "      <td>...</td>\n",
       "    </tr>\n",
       "    <tr>\n",
       "      <th>395</th>\n",
       "      <td>396</td>\n",
       "      <td>324</td>\n",
       "      <td>110</td>\n",
       "      <td>3</td>\n",
       "      <td>3.5</td>\n",
       "      <td>3.5</td>\n",
       "      <td>9.04</td>\n",
       "      <td>1</td>\n",
       "      <td>1</td>\n",
       "    </tr>\n",
       "    <tr>\n",
       "      <th>396</th>\n",
       "      <td>397</td>\n",
       "      <td>325</td>\n",
       "      <td>107</td>\n",
       "      <td>3</td>\n",
       "      <td>3.0</td>\n",
       "      <td>3.5</td>\n",
       "      <td>9.11</td>\n",
       "      <td>1</td>\n",
       "      <td>1</td>\n",
       "    </tr>\n",
       "    <tr>\n",
       "      <th>397</th>\n",
       "      <td>398</td>\n",
       "      <td>330</td>\n",
       "      <td>116</td>\n",
       "      <td>4</td>\n",
       "      <td>5.0</td>\n",
       "      <td>4.5</td>\n",
       "      <td>9.45</td>\n",
       "      <td>1</td>\n",
       "      <td>1</td>\n",
       "    </tr>\n",
       "    <tr>\n",
       "      <th>398</th>\n",
       "      <td>399</td>\n",
       "      <td>312</td>\n",
       "      <td>103</td>\n",
       "      <td>3</td>\n",
       "      <td>3.5</td>\n",
       "      <td>4.0</td>\n",
       "      <td>8.78</td>\n",
       "      <td>0</td>\n",
       "      <td>0</td>\n",
       "    </tr>\n",
       "    <tr>\n",
       "      <th>399</th>\n",
       "      <td>400</td>\n",
       "      <td>333</td>\n",
       "      <td>117</td>\n",
       "      <td>4</td>\n",
       "      <td>5.0</td>\n",
       "      <td>4.0</td>\n",
       "      <td>9.66</td>\n",
       "      <td>1</td>\n",
       "      <td>1</td>\n",
       "    </tr>\n",
       "  </tbody>\n",
       "</table>\n",
       "<p>400 rows × 9 columns</p>\n",
       "</div>"
      ],
      "text/plain": [
       "     Unnamed: 0  GRE  TOEFL  Univ_Rating  SOP  LOR  CGPA  Research  Admit\n",
       "0             1  337    118            4  4.5  4.5  9.65         1      1\n",
       "1             2  324    107            4  4.0  4.5  8.87         1      1\n",
       "2             3  316    104            3  3.0  3.5  8.00         1      1\n",
       "3             4  322    110            2  3.5  2.5  8.67         1      1\n",
       "4             5  314    103            2  2.0  3.0  8.21         0      0\n",
       "..          ...  ...    ...          ...  ...  ...   ...       ...    ...\n",
       "395         396  324    110            3  3.5  3.5  9.04         1      1\n",
       "396         397  325    107            3  3.0  3.5  9.11         1      1\n",
       "397         398  330    116            4  5.0  4.5  9.45         1      1\n",
       "398         399  312    103            3  3.5  4.0  8.78         0      0\n",
       "399         400  333    117            4  5.0  4.0  9.66         1      1\n",
       "\n",
       "[400 rows x 9 columns]"
      ]
     },
     "execution_count": 34,
     "metadata": {},
     "output_type": "execute_result"
    }
   ],
   "source": [
    "df_credit2"
   ]
  },
  {
   "cell_type": "code",
   "execution_count": 35,
   "metadata": {},
   "outputs": [
    {
     "data": {
      "text/plain": [
       "Unnamed: 0     0\n",
       "GRE            0\n",
       "TOEFL          0\n",
       "Univ_Rating    0\n",
       "SOP            0\n",
       "LOR            0\n",
       "CGPA           0\n",
       "Research       0\n",
       "Admit          0\n",
       "dtype: int64"
      ]
     },
     "execution_count": 35,
     "metadata": {},
     "output_type": "execute_result"
    }
   ],
   "source": [
    "df_credit2.isna().sum()"
   ]
  },
  {
   "cell_type": "code",
   "execution_count": 36,
   "metadata": {},
   "outputs": [
    {
     "data": {
      "text/html": [
       "<div>\n",
       "<style scoped>\n",
       "    .dataframe tbody tr th:only-of-type {\n",
       "        vertical-align: middle;\n",
       "    }\n",
       "\n",
       "    .dataframe tbody tr th {\n",
       "        vertical-align: top;\n",
       "    }\n",
       "\n",
       "    .dataframe thead th {\n",
       "        text-align: right;\n",
       "    }\n",
       "</style>\n",
       "<table border=\"1\" class=\"dataframe\">\n",
       "  <thead>\n",
       "    <tr style=\"text-align: right;\">\n",
       "      <th></th>\n",
       "      <th>GRE</th>\n",
       "      <th>TOEFL</th>\n",
       "      <th>Univ_Rating</th>\n",
       "      <th>SOP</th>\n",
       "      <th>LOR</th>\n",
       "      <th>CGPA</th>\n",
       "      <th>Research</th>\n",
       "      <th>Admit</th>\n",
       "    </tr>\n",
       "  </thead>\n",
       "  <tbody>\n",
       "    <tr>\n",
       "      <th>0</th>\n",
       "      <td>337</td>\n",
       "      <td>118</td>\n",
       "      <td>4</td>\n",
       "      <td>4.5</td>\n",
       "      <td>4.5</td>\n",
       "      <td>9.65</td>\n",
       "      <td>1</td>\n",
       "      <td>1</td>\n",
       "    </tr>\n",
       "    <tr>\n",
       "      <th>1</th>\n",
       "      <td>324</td>\n",
       "      <td>107</td>\n",
       "      <td>4</td>\n",
       "      <td>4.0</td>\n",
       "      <td>4.5</td>\n",
       "      <td>8.87</td>\n",
       "      <td>1</td>\n",
       "      <td>1</td>\n",
       "    </tr>\n",
       "    <tr>\n",
       "      <th>2</th>\n",
       "      <td>316</td>\n",
       "      <td>104</td>\n",
       "      <td>3</td>\n",
       "      <td>3.0</td>\n",
       "      <td>3.5</td>\n",
       "      <td>8.00</td>\n",
       "      <td>1</td>\n",
       "      <td>1</td>\n",
       "    </tr>\n",
       "    <tr>\n",
       "      <th>3</th>\n",
       "      <td>322</td>\n",
       "      <td>110</td>\n",
       "      <td>2</td>\n",
       "      <td>3.5</td>\n",
       "      <td>2.5</td>\n",
       "      <td>8.67</td>\n",
       "      <td>1</td>\n",
       "      <td>1</td>\n",
       "    </tr>\n",
       "    <tr>\n",
       "      <th>4</th>\n",
       "      <td>314</td>\n",
       "      <td>103</td>\n",
       "      <td>2</td>\n",
       "      <td>2.0</td>\n",
       "      <td>3.0</td>\n",
       "      <td>8.21</td>\n",
       "      <td>0</td>\n",
       "      <td>0</td>\n",
       "    </tr>\n",
       "    <tr>\n",
       "      <th>...</th>\n",
       "      <td>...</td>\n",
       "      <td>...</td>\n",
       "      <td>...</td>\n",
       "      <td>...</td>\n",
       "      <td>...</td>\n",
       "      <td>...</td>\n",
       "      <td>...</td>\n",
       "      <td>...</td>\n",
       "    </tr>\n",
       "    <tr>\n",
       "      <th>395</th>\n",
       "      <td>324</td>\n",
       "      <td>110</td>\n",
       "      <td>3</td>\n",
       "      <td>3.5</td>\n",
       "      <td>3.5</td>\n",
       "      <td>9.04</td>\n",
       "      <td>1</td>\n",
       "      <td>1</td>\n",
       "    </tr>\n",
       "    <tr>\n",
       "      <th>396</th>\n",
       "      <td>325</td>\n",
       "      <td>107</td>\n",
       "      <td>3</td>\n",
       "      <td>3.0</td>\n",
       "      <td>3.5</td>\n",
       "      <td>9.11</td>\n",
       "      <td>1</td>\n",
       "      <td>1</td>\n",
       "    </tr>\n",
       "    <tr>\n",
       "      <th>397</th>\n",
       "      <td>330</td>\n",
       "      <td>116</td>\n",
       "      <td>4</td>\n",
       "      <td>5.0</td>\n",
       "      <td>4.5</td>\n",
       "      <td>9.45</td>\n",
       "      <td>1</td>\n",
       "      <td>1</td>\n",
       "    </tr>\n",
       "    <tr>\n",
       "      <th>398</th>\n",
       "      <td>312</td>\n",
       "      <td>103</td>\n",
       "      <td>3</td>\n",
       "      <td>3.5</td>\n",
       "      <td>4.0</td>\n",
       "      <td>8.78</td>\n",
       "      <td>0</td>\n",
       "      <td>0</td>\n",
       "    </tr>\n",
       "    <tr>\n",
       "      <th>399</th>\n",
       "      <td>333</td>\n",
       "      <td>117</td>\n",
       "      <td>4</td>\n",
       "      <td>5.0</td>\n",
       "      <td>4.0</td>\n",
       "      <td>9.66</td>\n",
       "      <td>1</td>\n",
       "      <td>1</td>\n",
       "    </tr>\n",
       "  </tbody>\n",
       "</table>\n",
       "<p>400 rows × 8 columns</p>\n",
       "</div>"
      ],
      "text/plain": [
       "     GRE  TOEFL  Univ_Rating  SOP  LOR  CGPA  Research  Admit\n",
       "0    337    118            4  4.5  4.5  9.65         1      1\n",
       "1    324    107            4  4.0  4.5  8.87         1      1\n",
       "2    316    104            3  3.0  3.5  8.00         1      1\n",
       "3    322    110            2  3.5  2.5  8.67         1      1\n",
       "4    314    103            2  2.0  3.0  8.21         0      0\n",
       "..   ...    ...          ...  ...  ...   ...       ...    ...\n",
       "395  324    110            3  3.5  3.5  9.04         1      1\n",
       "396  325    107            3  3.0  3.5  9.11         1      1\n",
       "397  330    116            4  5.0  4.5  9.45         1      1\n",
       "398  312    103            3  3.5  4.0  8.78         0      0\n",
       "399  333    117            4  5.0  4.0  9.66         1      1\n",
       "\n",
       "[400 rows x 8 columns]"
      ]
     },
     "execution_count": 36,
     "metadata": {},
     "output_type": "execute_result"
    }
   ],
   "source": [
    "df_credit2.drop(\"Unnamed: 0\", axis =1, inplace = True)\n",
    "df_credit2"
   ]
  },
  {
   "cell_type": "code",
   "execution_count": 37,
   "metadata": {},
   "outputs": [
    {
     "data": {
      "text/plain": [
       "GRE              int64\n",
       "TOEFL            int64\n",
       "Univ_Rating      int64\n",
       "SOP            float64\n",
       "LOR            float64\n",
       "CGPA           float64\n",
       "Research         int64\n",
       "Admit            int64\n",
       "dtype: object"
      ]
     },
     "execution_count": 37,
     "metadata": {},
     "output_type": "execute_result"
    }
   ],
   "source": [
    "df_credit2.dtypes"
   ]
  },
  {
   "cell_type": "code",
   "execution_count": 38,
   "metadata": {},
   "outputs": [
    {
     "name": "stdout",
     "output_type": "stream",
     "text": [
      "(300, 7) (100, 7)\n"
     ]
    }
   ],
   "source": [
    "x = df_credit2.drop(\"Admit\", axis =1).values#independent variable\n",
    "\n",
    "y = df_credit2[\"Admit\"].values #dependant variable\n",
    "#train and test data split\n",
    "x_train, x_test, y_train, y_test = train_test_split(x,y, test_size = 0.25, random_state = 42)\n",
    "\n",
    "print(x_train.shape, x_test.shape)\n",
    "#NOTE:\n",
    "#.values will store the values in the form of array\n",
    "#if you not give x will store the values in series"
   ]
  },
  {
   "cell_type": "code",
   "execution_count": 39,
   "metadata": {},
   "outputs": [],
   "source": [
    "#to feed the random state\n",
    "seed = 42\n",
    "\n",
    "#prepare models\n",
    "models = []\n",
    "models.append((\"LR\", LogisticRegression()))\n",
    "models.append((\"LDA\", LinearDiscriminantAnalysis()))\n",
    "models.append((\"KNN\", KNeighborsClassifier()))\n",
    "models.append((\"CART\", DecisionTreeClassifier()))\n",
    "models.append((\"NB\", GaussianNB()))\n",
    "models.append((\"RF\", RandomForestClassifier()))\n",
    "models.append((\"SVM\", SVC(gamma = 'auto')))\n",
    "models.append((\"XGB\", XGBClassifier()))\n",
    "#appending all the models with their names"
   ]
  },
  {
   "cell_type": "code",
   "execution_count": 40,
   "metadata": {},
   "outputs": [
    {
     "name": "stdout",
     "output_type": "stream",
     "text": [
      "('LR', 0.8529609279609278, 0.09359437499641364)\n",
      "('LDA', 0.8259798534798535, 0.07733206943752843)\n",
      "('KNN', 0.8259783272283272, 0.03447838897909174)\n",
      "('CART', 0.7380570818070817, 0.10465997098849686)\n",
      "('NB', 0.8134294871794872, 0.05592909190206062)\n",
      "('RF', 0.8601648351648352, 0.05333778611207076)\n",
      "('SVM', 0.8437667887667889, 0.04948183487050184)\n",
      "('XGB', 0.8022588522588523, 0.07090775761636488)\n"
     ]
    }
   ],
   "source": [
    "import warnings \n",
    "warnings.filterwarnings(\"ignore\")# to avoid the warnings in our data-set\n",
    "result = []\n",
    "names = []\n",
    "scoring = 'recall'\n",
    "seed = 42\n",
    "\n",
    "for name, model in models:\n",
    "    kfold = KFold(n_splits = 5, random_state =seed)# 5 split of data (value of k)\n",
    "    cv_results = cross_val_score(model, x_train, y_train, cv = kfold, scoring = scoring)\n",
    "    result.append(cv_results)\n",
    "    names.append(name)\n",
    "    msg = (name, cv_results.mean(), cv_results.std())\n",
    "    print(msg)"
   ]
  },
  {
   "cell_type": "code",
   "execution_count": 41,
   "metadata": {},
   "outputs": [
    {
     "data": {
      "image/png": "[encoded data removed]",
      "text/plain": [
       "<Figure size 576x288 with 1 Axes>"
      ]
     },
     "metadata": {
      "needs_background": "light"
     },
     "output_type": "display_data"
    }
   ],
   "source": [
    "#boxplot results for choosing our algorithm\n",
    "import matplotlib.pyplot as plt\n",
    "fig = plt.figure(figsize = (8,4))\n",
    "fig.suptitle('Algorithm Comparison')\n",
    "ax = fig.add_subplot(1,1,1)\n",
    "plt.boxplot(result)\n",
    "ax.set_xticklabels(names)\n",
    "plt.show()"
   ]
  },
  {
   "cell_type": "markdown",
   "metadata": {},
   "source": [
    "# In terms of recall the best model is Random Forest"
   ]
  },
  {
   "cell_type": "code",
   "execution_count": 42,
   "metadata": {},
   "outputs": [
    {
     "name": "stdout",
     "output_type": "stream",
     "text": [
      "('LR', 0.828976562683813, 0.0666651623979009)\n",
      "('LDA', 0.8726438962681847, 0.05478890651735896)\n",
      "('KNN', 0.8163539418957375, 0.031267141709547176)\n",
      "('CART', 0.785652841781874, 0.06422372476237223)\n",
      "('NB', 0.8934120824485117, 0.03465645709918572)\n",
      "('RF', 0.8435753361899373, 0.027456471067887425)\n",
      "('SVM', 0.8069245036892096, 0.0434925673081995)\n",
      "('XGB', 0.8048890325360913, 0.037394478680186284)\n"
     ]
    }
   ],
   "source": [
    "import warnings \n",
    "warnings.filterwarnings(\"ignore\")# to avoid the warnings in our data-set\n",
    "result1 = []\n",
    "names = []\n",
    "scoring = 'precision'\n",
    "seed = 42\n",
    "\n",
    "for name, model in models:\n",
    "    kfold = KFold(n_splits = 5, random_state =seed)# 5 split of data (value of k)\n",
    "    cv_results = cross_val_score(model, x_train, y_train, cv = kfold, scoring = scoring)\n",
    "    result1.append(cv_results)\n",
    "    names.append(name)\n",
    "    msg = (name, cv_results.mean(), cv_results.std())\n",
    "    print(msg)"
   ]
  },
  {
   "cell_type": "code",
   "execution_count": 43,
   "metadata": {},
   "outputs": [
    {
     "data": {
      "image/png": "[encoded data removed]",
      "text/plain": [
       "<Figure size 576x288 with 1 Axes>"
      ]
     },
     "metadata": {
      "needs_background": "light"
     },
     "output_type": "display_data"
    }
   ],
   "source": [
    "#boxplot results for choosing our algorithm\n",
    "import matplotlib.pyplot as plt\n",
    "fig = plt.figure(figsize = (8,4))\n",
    "fig.suptitle('Algorithm Comparison')\n",
    "ax = fig.add_subplot(1,1,1)\n",
    "plt.boxplot(result1)\n",
    "ax.set_xticklabels(names)\n",
    "plt.show()"
   ]
  },
  {
   "cell_type": "markdown",
   "metadata": {},
   "source": [
    "# In terms of precision the best model is Random Forest, Naive bayes and Logistic Regression"
   ]
  },
  {
   "cell_type": "code",
   "execution_count": 44,
   "metadata": {},
   "outputs": [
    {
     "name": "stdout",
     "output_type": "stream",
     "text": [
      "('LR', 0.8100000000000002, 0.07498147919467994)\n",
      "('LDA', 0.8266666666666665, 0.07195677714974301)\n",
      "('KNN', 0.7866666666666667, 0.03055050463303895)\n",
      "('CART', 0.7266666666666666, 0.07999999999999999)\n",
      "('NB', 0.8333333333333334, 0.04346134936801767)\n",
      "('RF', 0.8099999999999999, 0.03091206165165233)\n",
      "('SVM', 0.7866666666666667, 0.016329931618554505)\n",
      "('XGB', 0.77, 0.04988876515698591)\n"
     ]
    }
   ],
   "source": [
    "# default scoring is a accuracy\n",
    "import warnings \n",
    "warnings.filterwarnings(\"ignore\")# to avoid the warnings in our data-set\n",
    "result2 = []\n",
    "names = []\n",
    "seed = 42\n",
    "\n",
    "for name, model in models:\n",
    "    kfold = KFold(n_splits = 5, random_state =seed)# 5 split of data (value of k)\n",
    "    cv_results = cross_val_score(model, x_train, y_train, cv = kfold)\n",
    "    result2.append(cv_results)\n",
    "    names.append(name)\n",
    "    msg1 = (name, cv_results.mean(), cv_results.std())\n",
    "    print(msg1)\n",
    "#first one is mean value of a model, next one is the std deviation"
   ]
  },
  {
   "cell_type": "code",
   "execution_count": 45,
   "metadata": {},
   "outputs": [
    {
     "data": {
      "image/png": "[encoded data removed]",
      "text/plain": [
       "<Figure size 576x288 with 1 Axes>"
      ]
     },
     "metadata": {
      "needs_background": "light"
     },
     "output_type": "display_data"
    }
   ],
   "source": [
    "#boxplot results for choosing our algorithm\n",
    "import matplotlib.pyplot as plt\n",
    "fig = plt.figure(figsize = (8,4))\n",
    "fig.suptitle('Algorithm Comparison')\n",
    "ax = fig.add_subplot(1,1,1)\n",
    "plt.boxplot(result2)\n",
    "ax.set_xticklabels(names)\n",
    "plt.show()"
   ]
  },
  {
   "cell_type": "markdown",
   "metadata": {},
   "source": [
    "\n",
    "# Random Forest and Naive Bayes is the best model"
   ]
  },
  {
   "cell_type": "markdown",
   "metadata": {},
   "source": [
    "# IRIS DATA-SET"
   ]
  },
  {
   "cell_type": "code",
   "execution_count": 92,
   "metadata": {},
   "outputs": [],
   "source": [
    "df_credit3 = pd.read_csv(\"C:\\\\Users\\\\BABU\\\\Desktop\\\\exported datas\\\\iris2.csv\")"
   ]
  },
  {
   "cell_type": "code",
   "execution_count": 93,
   "metadata": {},
   "outputs": [],
   "source": [
    "df_credit3.drop(\"Unnamed: 0\",axis =1, inplace =True)"
   ]
  },
  {
   "cell_type": "code",
   "execution_count": 94,
   "metadata": {},
   "outputs": [
    {
     "data": {
      "text/plain": [
       "Sepal.Length    float64\n",
       "Sepal.Width     float64\n",
       "Petal.Length    float64\n",
       "Petal.Width     float64\n",
       "Species          object\n",
       "dtype: object"
      ]
     },
     "execution_count": 94,
     "metadata": {},
     "output_type": "execute_result"
    }
   ],
   "source": [
    "df_credit3.dtypes"
   ]
  },
  {
   "cell_type": "code",
   "execution_count": 95,
   "metadata": {},
   "outputs": [],
   "source": [
    "from sklearn.preprocessing import LabelEncoder\n",
    "encoder=LabelEncoder()\n",
    "df_credit3[\"Species\"]=encoder.fit_transform(df_credit3['Species'])"
   ]
  },
  {
   "cell_type": "code",
   "execution_count": 96,
   "metadata": {},
   "outputs": [
    {
     "data": {
      "text/plain": [
       "Sepal.Length    float64\n",
       "Sepal.Width     float64\n",
       "Petal.Length    float64\n",
       "Petal.Width     float64\n",
       "Species           int32\n",
       "dtype: object"
      ]
     },
     "execution_count": 96,
     "metadata": {},
     "output_type": "execute_result"
    }
   ],
   "source": [
    "df_credit3.dtypes"
   ]
  },
  {
   "cell_type": "code",
   "execution_count": 97,
   "metadata": {},
   "outputs": [
    {
     "name": "stdout",
     "output_type": "stream",
     "text": [
      "(112, 4) (38, 4)\n"
     ]
    }
   ],
   "source": [
    "x = df_credit3.drop(\"Species\", axis =1).values#independent variable\n",
    "\n",
    "y = df_credit3[\"Species\"].values #dependant variable\n",
    "#train and test data split\n",
    "X_train, X_test, Y_train, Y_test = train_test_split(x,y, test_size = 0.25, random_state = 42)\n",
    "\n",
    "print(X_train.shape, X_test.shape)\n",
    "#NOTE:\n",
    "#.values will store the values in the form of array\n",
    "#if you not give x will store the values in series"
   ]
  },
  {
   "cell_type": "code",
   "execution_count": 98,
   "metadata": {},
   "outputs": [],
   "source": [
    "#to feed the random state\n",
    "seed = 42\n",
    "\n",
    "#prepare models\n",
    "models = []\n",
    "models.append((\"LR\", LogisticRegression()))\n",
    "models.append((\"LDA\", LinearDiscriminantAnalysis()))\n",
    "models.append((\"KNN\", KNeighborsClassifier()))\n",
    "models.append((\"CART\", DecisionTreeClassifier()))\n",
    "models.append((\"NB\", GaussianNB()))\n",
    "models.append((\"RF\", RandomForestClassifier()))\n",
    "models.append((\"SVM\", SVC(gamma = 'auto')))\n",
    "models.append((\"XGB\", XGBClassifier()))\n",
    "#appending all the models with their names"
   ]
  },
  {
   "cell_type": "code",
   "execution_count": 99,
   "metadata": {},
   "outputs": [
    {
     "name": "stdout",
     "output_type": "stream",
     "text": [
      "('LR', 0.8529609279609278, 0.09359437499641364)\n",
      "('LDA', 0.8259798534798535, 0.07733206943752843)\n",
      "('KNN', 0.8259783272283272, 0.03447838897909174)\n",
      "('CART', 0.7323427960927961, 0.08236847681276595)\n",
      "('NB', 0.8134294871794872, 0.05592909190206062)\n",
      "('RF', 0.8493727106227107, 0.06386942756690484)\n",
      "('SVM', 0.8437667887667889, 0.04948183487050184)\n",
      "('XGB', 0.8022588522588523, 0.07090775761636488)\n"
     ]
    }
   ],
   "source": [
    "import warnings \n",
    "warnings.filterwarnings(\"ignore\")# to avoid the warnings in our data-set\n",
    "result = []\n",
    "names = []\n",
    "scoring = 'recall'\n",
    "seed = 42\n",
    "\n",
    "for name, model in models:\n",
    "    kfold = KFold(n_splits = 5, random_state =seed)# 5 split of data (value of k)\n",
    "    cv_results = cross_val_score(model, x_train, y_train, cv = kfold, scoring = scoring)\n",
    "    result.append(cv_results)\n",
    "    names.append(name)\n",
    "    msg = (name, cv_results.mean(), cv_results.std())\n",
    "    print(msg)"
   ]
  },
  {
   "cell_type": "code",
   "execution_count": 100,
   "metadata": {},
   "outputs": [
    {
     "data": {
      "image/png": "[encoded data removed]",
      "text/plain": [
       "<Figure size 576x288 with 1 Axes>"
      ]
     },
     "metadata": {
      "needs_background": "light"
     },
     "output_type": "display_data"
    }
   ],
   "source": [
    "fig = plt.figure(figsize = (8,4))\n",
    "fig.suptitle('Algorithm Comparison')\n",
    "ax = fig.add_subplot(1,1,1)\n",
    "plt.boxplot(result)\n",
    "ax.set_xticklabels(names)\n",
    "plt.show()"
   ]
  },
  {
   "cell_type": "code",
   "execution_count": 104,
   "metadata": {},
   "outputs": [
    {
     "name": "stdout",
     "output_type": "stream",
     "text": [
      "('LR', 0.828976562683813, 0.0666651623979009)\n",
      "('LDA', 0.8726438962681847, 0.05478890651735896)\n",
      "('KNN', 0.8163539418957375, 0.031267141709547176)\n",
      "('CART', 0.7960531309297914, 0.05446223107106504)\n",
      "('NB', 0.8934120824485117, 0.03465645709918572)\n",
      "('RF', 0.8354409672830727, 0.0311276432045243)\n",
      "('SVM', 0.8069245036892096, 0.0434925673081995)\n",
      "('XGB', 0.8048890325360913, 0.037394478680186284)\n"
     ]
    }
   ],
   "source": [
    "import warnings \n",
    "warnings.filterwarnings(\"ignore\")# to avoid the warnings in our data-set\n",
    "result1 = []\n",
    "names = []\n",
    "scoring = 'precision'\n",
    "seed = 42\n",
    "\n",
    "for name, model in models:\n",
    "    kfold = KFold(n_splits = 5, random_state =seed)# 5 split of data (value of k)\n",
    "    cv_results = cross_val_score(model, x_train, y_train, cv = kfold, scoring = scoring)\n",
    "    result1.append(cv_results)\n",
    "    names.append(name)\n",
    "    msg = (name, cv_results.mean(), cv_results.std())\n",
    "    print(msg)"
   ]
  },
  {
   "cell_type": "code",
   "execution_count": 105,
   "metadata": {},
   "outputs": [
    {
     "data": {
      "image/png": "[encoded data removed]",
      "text/plain": [
       "<Figure size 576x288 with 1 Axes>"
      ]
     },
     "metadata": {
      "needs_background": "light"
     },
     "output_type": "display_data"
    }
   ],
   "source": [
    "fig = plt.figure(figsize = (8,4))\n",
    "fig.suptitle('Algorithm Comparison')\n",
    "ax = fig.add_subplot(1,1,1)\n",
    "plt.boxplot(result1)\n",
    "ax.set_xticklabels(names)\n",
    "plt.show()"
   ]
  },
  {
   "cell_type": "code",
   "execution_count": 106,
   "metadata": {},
   "outputs": [
    {
     "name": "stdout",
     "output_type": "stream",
     "text": [
      "('LR', 0.8100000000000002, 0.07498147919467994)\n",
      "('LDA', 0.8266666666666665, 0.07195677714974301)\n",
      "('KNN', 0.7866666666666667, 0.03055050463303895)\n",
      "('CART', 0.7466666666666667, 0.056174331821175726)\n",
      "('NB', 0.8333333333333334, 0.04346134936801767)\n",
      "('RF', 0.8266666666666665, 0.038873012632301994)\n",
      "('SVM', 0.7866666666666667, 0.016329931618554505)\n",
      "('XGB', 0.77, 0.04988876515698591)\n"
     ]
    }
   ],
   "source": [
    "# default scoring is a accuracy\n",
    "import warnings \n",
    "warnings.filterwarnings(\"ignore\")# to avoid the warnings in our data-set\n",
    "result2 = []\n",
    "names = []\n",
    "seed = 42\n",
    "\n",
    "for name, model in models:\n",
    "    kfold = KFold(n_splits = 5, random_state =seed)# 5 split of data (value of k)\n",
    "    cv_results = cross_val_score(model, x_train, y_train, cv = kfold)\n",
    "    result2.append(cv_results)\n",
    "    names.append(name)\n",
    "    msg1 = (name, cv_results.mean(), cv_results.std())\n",
    "    print(msg1)\n",
    "#first one is mean value of a model, next one is the std deviation"
   ]
  },
  {
   "cell_type": "code",
   "execution_count": 107,
   "metadata": {},
   "outputs": [
    {
     "data": {
      "image/png": "[encoded data removed]",
      "text/plain": [
       "<Figure size 576x288 with 1 Axes>"
      ]
     },
     "metadata": {
      "needs_background": "light"
     },
     "output_type": "display_data"
    }
   ],
   "source": [
    "fig = plt.figure(figsize = (8,4))\n",
    "fig.suptitle('Algorithm Comparison')\n",
    "ax = fig.add_subplot(1,1,1)\n",
    "plt.boxplot(result2)\n",
    "ax.set_xticklabels(names)\n",
    "plt.show()"
   ]
  },
  {
   "cell_type": "markdown",
   "metadata": {},
   "source": [
    "recall - rf, svm, lda, knn\n",
    "\n",
    "accuracy - rf, lda, nb\n",
    "\n",
    "precision - nb, lda, rf\n",
    "\n",
    "# RF AND LDA IS THE BEST MODEL "
   ]
  },
  {
   "cell_type": "code",
   "execution_count": null,
   "metadata": {},
   "outputs": [],
   "source": []
  }
 ],
 "metadata": {
  "kernelspec": {
   "display_name": "Python 3",
   "language": "python",
   "name": "python3"
  },
  "language_info": {
   "codemirror_mode": {
    "name": "ipython",
    "version": 3
   },
   "file_extension": ".py",
   "mimetype": "text/x-python",
   "name": "python",
   "nbconvert_exporter": "python",
   "pygments_lexer": "ipython3",
   "version": "3.7.6"
  }
 },
 "nbformat": 4,
 "nbformat_minor": 4
}
